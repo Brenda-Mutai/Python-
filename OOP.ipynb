{
 "cells": [
  {
   "cell_type": "markdown",
   "id": "da1c8b97",
   "metadata": {},
   "source": [
    "### Object-Oriented Programming"
   ]
  },
  {
   "cell_type": "markdown",
   "id": "08266529",
   "metadata": {},
   "source": [
    "- Python is an object-oriented language.\n",
    "- structuring code using classes and objects\n",
    "- Class is the blue print for creating objects.\n",
    "- classes and object are the two core concepts\n",
    "- function inside a class is called method\n",
    "\n",
    "Advantages\n",
    "- provides a clear structure to programs\n",
    "- Makes code clear to maintain, reuse and debug\n"
   ]
  },
  {
   "cell_type": "code",
   "execution_count": 5,
   "id": "38913f14",
   "metadata": {},
   "outputs": [],
   "source": [
    "#creating a class\n",
    "class Person:\n",
    "    def __init__(self,name,age,gender,nationality):\n",
    "        self.name=name\n",
    "        self.age=age\n",
    "        self.gender=gender\n",
    "        self.nationality=nationality\n",
    "    def speak(self):\n",
    "        return f'Hi my name is {self.name}. I am {self.age} years old  and i am a {self.gender}. I am from {self.nationality}.'"
   ]
  },
  {
   "cell_type": "code",
   "execution_count": 6,
   "id": "77ba02d7",
   "metadata": {},
   "outputs": [
    {
     "name": "stdout",
     "output_type": "stream",
     "text": [
      "Hi my name is Brenda. I am 22 years old  and i am a female. I am from Kenya.\n"
     ]
    }
   ],
   "source": [
    "# example usage\n",
    "person1=Person('Brenda',22, 'female','Kenya')\n",
    "print(person1.speak())"
   ]
  },
  {
   "cell_type": "code",
   "execution_count": 17,
   "id": "8329ec4f",
   "metadata": {},
   "outputs": [],
   "source": [
    "# creating a class for rectangle\n",
    "class Rectangle:\n",
    "    def __init__(self,length,width):\n",
    "        self.length=length\n",
    "        self.width=width\n",
    "    def area(self):\n",
    "        area=self.width*self.length\n",
    "        return f' The area of our rectangle of width {self.width} and length {self.length} is {area}.'\n",
    "    def perimeter(self):\n",
    "        perimeter= 2*(self.length)+2*(self.width)\n",
    "        return f'The perimeter of our rectangle of width {self.width} and length {self.length} is {perimeter}.'"
   ]
  },
  {
   "cell_type": "code",
   "execution_count": null,
   "id": "af74684c",
   "metadata": {},
   "outputs": [
    {
     "name": "stdout",
     "output_type": "stream",
     "text": [
      " The area of our rectangle of width 8 and length 7 is 56.\n"
     ]
    }
   ],
   "source": [
    "# example of creating the area of rectangle\n",
    "rectangle1=Rectangle(7,8)\n",
    "print(rectangle1.area())"
   ]
  },
  {
   "cell_type": "code",
   "execution_count": 18,
   "id": "8dc7adde",
   "metadata": {},
   "outputs": [
    {
     "name": "stdout",
     "output_type": "stream",
     "text": [
      "The perimeter of our rectangle of width 6 and length 5 is 22.\n"
     ]
    }
   ],
   "source": [
    "# example of creating the perimeter of rectangle\n",
    "rectangle2=Rectangle(5,6)\n",
    "print(rectangle2.perimeter())"
   ]
  },
  {
   "cell_type": "code",
   "execution_count": 21,
   "id": "4d1b0f78",
   "metadata": {},
   "outputs": [],
   "source": [
    "# creating a class for circle\n",
    "class Circle:\n",
    "    def __init__(self,radius):\n",
    "        self.radius=radius\n",
    "    def area(self):\n",
    "        area=3.14*(self.radius*2)\n",
    "        return f'The area of our circle with radius {self.radius} is {area}.'\n",
    "    def circumference(self):\n",
    "        circumference=2*3.14*self.radius\n",
    "        return f'The circumference of our circle with radius {self.radius} is {circumference}.'"
   ]
  },
  {
   "cell_type": "code",
   "execution_count": null,
   "id": "f5aebdf9",
   "metadata": {},
   "outputs": [
    {
     "name": "stdout",
     "output_type": "stream",
     "text": [
      "The area of our circle with radius 10 is 62.800000000000004.\n"
     ]
    }
   ],
   "source": [
    "#example of creating the area of a circle\n",
    "circle1=Circle(10)\n",
    "print(circle1.area())"
   ]
  },
  {
   "cell_type": "code",
   "execution_count": 24,
   "id": "dd76bf2a",
   "metadata": {},
   "outputs": [
    {
     "name": "stdout",
     "output_type": "stream",
     "text": [
      "My favorite book is The Alchemist written by Paulo Coelho and published by HarperOne.\n"
     ]
    }
   ],
   "source": [
    "# create a list of your three favorite books and print the second one\n",
    "class Books:\n",
    "    def __init__ (self,title,author,publisher):\n",
    "        self.title=title\n",
    "        self.author=author\n",
    "        self.publisher=publisher\n",
    "    def info(self):\n",
    "        return f'My favorite book is {self.title} written by {self.author} and published by {self.publisher}.'\n",
    "# create a book object \n",
    "book1=Books('The Alchemist','Paulo Coelho','HarperOne')\n",
    "print(book1.info())"
   ]
  },
  {
   "cell_type": "code",
   "execution_count": 26,
   "id": "7c70a11c",
   "metadata": {},
   "outputs": [
    {
     "name": "stdout",
     "output_type": "stream",
     "text": [
      "My favorite book is You are Here written by Tich Nhat Hanh and published by Penguin Random House.\n"
     ]
    }
   ],
   "source": [
    "# create a book object example\n",
    "book2=Books('You are Here','Tich Nhat Hanh','Penguin Random House')\n",
    "print(book2.info())"
   ]
  },
  {
   "cell_type": "code",
   "execution_count": 30,
   "id": "4fda0521",
   "metadata": {},
   "outputs": [],
   "source": [
    "# write a class car with attributes brand and year.Add a method display() that prints a formated string.\n",
    "class Car:\n",
    "    def __init__(self,brand,year):\n",
    "        self.brand=brand\n",
    "        self.year=year\n",
    "    def display(self):\n",
    "        return f'These car brand is {self.brand} and it was made in the year {self.year}.'"
   ]
  },
  {
   "cell_type": "code",
   "execution_count": 31,
   "id": "3edf2f20",
   "metadata": {},
   "outputs": [
    {
     "name": "stdout",
     "output_type": "stream",
     "text": [
      "These car brand is Audi and it was made in the year 2025.\n"
     ]
    }
   ],
   "source": [
    "car1=Car('Audi',2025)\n",
    "print(car1.display())"
   ]
  },
  {
   "cell_type": "markdown",
   "id": "5a268d1e",
   "metadata": {},
   "source": [
    "## Class Inheritance"
   ]
  },
  {
   "cell_type": "markdown",
   "id": "3cc613d0",
   "metadata": {},
   "source": [
    "#### - Inheritance allows us to define a class that inherits all the methods and properties from another class.\n",
    "- Inheritance lets you define a class that inherits from another class.\n",
    "- Parent class - class being inheritated from\n",
    "- Child class - is the class that inherits from another class\n",
    "- (self) is considered an instance\n"
   ]
  },
  {
   "cell_type": "code",
   "execution_count": null,
   "id": "e04bd666",
   "metadata": {},
   "outputs": [],
   "source": [
    "#parent class Animals .\n",
    "class Animals:\n",
    "    def __init__(self,name):\n",
    "        self.name=name\n",
    "    def speak(self):\n",
    "        return f'{self.name} makes a sound.'\n"
   ]
  },
  {
   "cell_type": "code",
   "execution_count": 2,
   "id": "7895208c",
   "metadata": {},
   "outputs": [],
   "source": [
    "# child class Dog that inherits from Animals.\n",
    "class Dog(Animals):\n",
    "    def speak (self):\n",
    "        return f'{self.name} says Woof!'"
   ]
  },
  {
   "cell_type": "code",
   "execution_count": null,
   "id": "68d44720",
   "metadata": {},
   "outputs": [
    {
     "name": "stdout",
     "output_type": "stream",
     "text": [
      "Toby says Woof!\n"
     ]
    }
   ],
   "source": [
    "# example\n",
    "dog1=Dog('Toby')\n",
    "print(dog1.speak())"
   ]
  },
  {
   "cell_type": "code",
   "execution_count": 4,
   "id": "3cfd36f0",
   "metadata": {},
   "outputs": [],
   "source": [
    "# child class for cat that borrows from Animals class\n",
    "class Cat(Animals):\n",
    "    def speak(self):\n",
    "        return f'{self.name} says Meow!'"
   ]
  },
  {
   "cell_type": "code",
   "execution_count": 5,
   "id": "6ee1e324",
   "metadata": {},
   "outputs": [
    {
     "name": "stdout",
     "output_type": "stream",
     "text": [
      "Makena says Meow!\n"
     ]
    }
   ],
   "source": [
    "#example\n",
    "cat1=Cat('Makena')\n",
    "print(cat1.speak())"
   ]
  },
  {
   "cell_type": "code",
   "execution_count": 6,
   "id": "f1e10100",
   "metadata": {},
   "outputs": [],
   "source": [
    "#child clas for a cow that inherits from Animals class\n",
    "class Cow(Animals):\n",
    "    def speak (self):\n",
    "        return f'{self.name} says Moo!'"
   ]
  },
  {
   "cell_type": "code",
   "execution_count": 9,
   "id": "2fa77baf",
   "metadata": {},
   "outputs": [
    {
     "name": "stdout",
     "output_type": "stream",
     "text": [
      "Zesty says Moo!\n"
     ]
    }
   ],
   "source": [
    "#example\n",
    "cow1=Cow('Zesty')\n",
    "print(cow1.speak())"
   ]
  },
  {
   "cell_type": "code",
   "execution_count": 11,
   "id": "74171634",
   "metadata": {},
   "outputs": [],
   "source": [
    "#Assignment\n",
    "# create a class employee with attributes with name and salary.\n",
    "#create a subclass manager with an extra department attribute and a method display_details() to display the full details.\n",
    "#You can override the method in the subclass if needed."
   ]
  },
  {
   "cell_type": "code",
   "execution_count": null,
   "id": "25bcb0f4",
   "metadata": {},
   "outputs": [],
   "source": [
    "class Employee:\n",
    "    def__init\n"
   ]
  }
 ],
 "metadata": {
  "kernelspec": {
   "display_name": "my_env",
   "language": "python",
   "name": "python3"
  },
  "language_info": {
   "codemirror_mode": {
    "name": "ipython",
    "version": 3
   },
   "file_extension": ".py",
   "mimetype": "text/x-python",
   "name": "python",
   "nbconvert_exporter": "python",
   "pygments_lexer": "ipython3",
   "version": "3.12.10"
  }
 },
 "nbformat": 4,
 "nbformat_minor": 5
}
