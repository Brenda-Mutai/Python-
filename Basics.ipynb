{
 "cells": [
  {
   "cell_type": "code",
   "execution_count": 34,
   "id": "426401de",
   "metadata": {},
   "outputs": [
    {
     "ename": "NameError",
     "evalue": "name 'x' is not defined",
     "output_type": "error",
     "traceback": [
      "\u001b[31m---------------------------------------------------------------------------\u001b[39m",
      "\u001b[31mNameError\u001b[39m                                 Traceback (most recent call last)",
      "\u001b[36mCell\u001b[39m\u001b[36m \u001b[39m\u001b[32mIn[34]\u001b[39m\u001b[32m, line 1\u001b[39m\n\u001b[32m----> \u001b[39m\u001b[32m1\u001b[39m \u001b[38;5;28mtype\u001b[39m(\u001b[43mx\u001b[49m)\n",
      "\u001b[31mNameError\u001b[39m: name 'x' is not defined"
     ]
    }
   ],
   "source": [
    "type(x)"
   ]
  },
  {
   "cell_type": "code",
   "execution_count": 1,
   "id": "5b960777",
   "metadata": {},
   "outputs": [],
   "source": [
    "name = 'Brenda'"
   ]
  },
  {
   "cell_type": "code",
   "execution_count": 3,
   "id": "31285d13",
   "metadata": {},
   "outputs": [
    {
     "data": {
      "text/plain": [
       "str"
      ]
     },
     "execution_count": 3,
     "metadata": {},
     "output_type": "execute_result"
    }
   ],
   "source": [
    "type(name)"
   ]
  },
  {
   "cell_type": "markdown",
   "id": "1d2fd268",
   "metadata": {},
   "source": [
    "### Logical operators\n",
    "They include\n",
    "- And\n",
    "- Or\n",
    "- not\n",
    "### Comparison operators\n",
    "For example\n",
    "- equals to==\n",
    "- not equal to\n",
    "- greater than>\n",
    "- less than<\n",
    "- greater thab or equals to >= \n",
    "- less than or equals to <="
   ]
  },
  {
   "cell_type": "markdown",
   "id": "44f7ba34",
   "metadata": {},
   "source": [
    "#### Control Flows\n",
    "1. Conditional statements\n",
    "- if  -two conditions\n",
    "- elif -multiple conditions\n",
    "- else -multiple conditions\n",
    "\n"
   ]
  },
  {
   "cell_type": "markdown",
   "id": "83c413fd",
   "metadata": {},
   "source": [
    "### LOOPS\n",
    "- For Loops ..iterates through every element in a given data structure\n",
    "- While loops.. only when the condition remains true"
   ]
  },
  {
   "cell_type": "markdown",
   "id": "35ec5d1e",
   "metadata": {},
   "source": [
    "### list comprehensions\n",
    "easier way of creating list of loops\n"
   ]
  },
  {
   "cell_type": "markdown",
   "id": "4886a6f9",
   "metadata": {},
   "source": []
  },
  {
   "cell_type": "code",
   "execution_count": 4,
   "id": "6bf4453d",
   "metadata": {},
   "outputs": [
    {
     "name": "stdout",
     "output_type": "stream",
     "text": [
      "1320\n"
     ]
    }
   ],
   "source": [
    "multiply1= multiply(10,11,12)\n",
    "print(multiply1)"
   ]
  },
  {
   "cell_type": "code",
   "execution_count": 3,
   "id": "4742f64d",
   "metadata": {},
   "outputs": [
    {
     "name": "stdout",
     "output_type": "stream",
     "text": [
      "1320\n"
     ]
    }
   ],
   "source": [
    "# Define a function that multiplies numbers\n",
    "def multiply(a, b, c):\n",
    "    return a * b * c\n",
    "\n",
    "multiply1 = multiply(10, 11, 12)\n",
    "print(multiply1)\n"
   ]
  },
  {
   "cell_type": "markdown",
   "id": "1581e5e2",
   "metadata": {},
   "source": []
  },
  {
   "cell_type": "markdown",
   "id": "823b0895",
   "metadata": {},
   "source": [
    "### Lambda functions"
   ]
  },
  {
   "cell_type": "code",
   "execution_count": 5,
   "id": "977851f3",
   "metadata": {},
   "outputs": [],
   "source": [
    "product = lambda x,y,z:x*y*z\n"
   ]
  },
  {
   "cell_type": "code",
   "execution_count": 6,
   "id": "959ac8eb",
   "metadata": {},
   "outputs": [
    {
     "data": {
      "text/plain": [
       "8832"
      ]
     },
     "execution_count": 6,
     "metadata": {},
     "output_type": "execute_result"
    }
   ],
   "source": [
    "product1 =product(12,23,32)\n",
    "product1"
   ]
  },
  {
   "cell_type": "code",
   "execution_count": 7,
   "id": "9df1d748",
   "metadata": {},
   "outputs": [],
   "source": [
    "salamu= lambda name : f'jambo,{name}'\n"
   ]
  },
  {
   "cell_type": "code",
   "execution_count": 8,
   "id": "8aadefb4",
   "metadata": {},
   "outputs": [
    {
     "data": {
      "text/plain": [
       "'jambo,brenda'"
      ]
     },
     "execution_count": 8,
     "metadata": {},
     "output_type": "execute_result"
    }
   ],
   "source": [
    "greet=salamu('brenda')\n",
    "greet"
   ]
  },
  {
   "cell_type": "markdown",
   "id": "2ce88855",
   "metadata": {},
   "source": [
    "write  a function that checks if a number is even or odd"
   ]
  },
  {
   "cell_type": "markdown",
   "id": "dbed1634",
   "metadata": {},
   "source": [
    "## Data structures\n",
    "- sets\n",
    "- dictionaries\n",
    "- list\n",
    "- tuples\n",
    "\n",
    "1. Lists\n",
    "\n",
    "- are ordered and mutable (can be changed)\n",
    "- denoted using[]\n",
    "\n",
    "2. Tuples\n",
    "\n",
    "- Cannot be changed(immutable)\n",
    "- Ordered like a list\n",
    "- denoted using()\n",
    "\n",
    "3. Sets\n",
    "- they are unordered\n",
    "- use {} brackets\n",
    "- do not allow duplicates values\n",
    "- methods: intersection, union\n",
    "\n",
    "4. Dictionaries\n",
    "- the key pair value\n",
    "- mutable-add elements to our dictionaries\n",
    "- denoted using {}\n",
    "\n"
   ]
  },
  {
   "cell_type": "code",
   "execution_count": 9,
   "id": "f538b56f",
   "metadata": {},
   "outputs": [
    {
     "data": {
      "text/plain": [
       "['apple', 'banana', 'cherry', 'oranges']"
      ]
     },
     "execution_count": 9,
     "metadata": {},
     "output_type": "execute_result"
    }
   ],
   "source": [
    "fruits = ['apple','banana','cherry']\n",
    "fruits.append('oranges')\n",
    "fruits"
   ]
  },
  {
   "cell_type": "code",
   "execution_count": 10,
   "id": "c017c613",
   "metadata": {},
   "outputs": [
    {
     "data": {
      "text/plain": [
       "'oranges'"
      ]
     },
     "execution_count": 10,
     "metadata": {},
     "output_type": "execute_result"
    }
   ],
   "source": [
    "fruits.pop()"
   ]
  },
  {
   "cell_type": "code",
   "execution_count": 11,
   "id": "0f13110d",
   "metadata": {},
   "outputs": [
    {
     "data": {
      "text/plain": [
       "['apple', 'banana', 'cherry']"
      ]
     },
     "execution_count": 11,
     "metadata": {},
     "output_type": "execute_result"
    }
   ],
   "source": [
    "fruits"
   ]
  },
  {
   "cell_type": "markdown",
   "id": "cbe0efdf",
   "metadata": {},
   "source": [
    "Tuples"
   ]
  },
  {
   "cell_type": "code",
   "execution_count": 12,
   "id": "6248fda6",
   "metadata": {},
   "outputs": [
    {
     "data": {
      "text/plain": [
       "1"
      ]
     },
     "execution_count": 12,
     "metadata": {},
     "output_type": "execute_result"
    }
   ],
   "source": [
    "image_pixels=(1920,1080)\n",
    "image_pixels.count(1920)"
   ]
  },
  {
   "cell_type": "code",
   "execution_count": null,
   "id": "376e90ce",
   "metadata": {},
   "outputs": [
    {
     "data": {
      "text/plain": [
       "1"
      ]
     },
     "execution_count": 86,
     "metadata": {},
     "output_type": "execute_result"
    }
   ],
   "source": [
    "image_pixels.index(1080)"
   ]
  },
  {
   "cell_type": "markdown",
   "id": "63f8f04d",
   "metadata": {},
   "source": [
    "Sets"
   ]
  },
  {
   "cell_type": "code",
   "execution_count": 14,
   "id": "ba3f03c9",
   "metadata": {},
   "outputs": [],
   "source": [
    "set1= {5,7,6,8,4}\n",
    "set2={1,2,3,4,9}"
   ]
  },
  {
   "cell_type": "code",
   "execution_count": 15,
   "id": "7fc07857",
   "metadata": {},
   "outputs": [
    {
     "data": {
      "text/plain": [
       "{4}"
      ]
     },
     "execution_count": 15,
     "metadata": {},
     "output_type": "execute_result"
    }
   ],
   "source": [
    "set3=set1.intersection(set2)\n",
    "set3"
   ]
  },
  {
   "cell_type": "code",
   "execution_count": 16,
   "id": "0622b33b",
   "metadata": {},
   "outputs": [
    {
     "data": {
      "text/plain": [
       "{1, 2, 3, 4, 5, 6, 7, 8, 9}"
      ]
     },
     "execution_count": 16,
     "metadata": {},
     "output_type": "execute_result"
    }
   ],
   "source": [
    "set4=set1.union(set2)\n",
    "set4"
   ]
  },
  {
   "cell_type": "markdown",
   "id": "5f81ee18",
   "metadata": {},
   "source": [
    "dictionaries"
   ]
  },
  {
   "cell_type": "code",
   "execution_count": 17,
   "id": "9177d975",
   "metadata": {},
   "outputs": [],
   "source": [
    "person={\n",
    "    'name':'Brenda',\n",
    "    'age':'28',\n",
    "    'fruit':'avocado'\n",
    "\n",
    "\n",
    "}"
   ]
  },
  {
   "cell_type": "code",
   "execution_count": 18,
   "id": "f30c851e",
   "metadata": {},
   "outputs": [
    {
     "data": {
      "text/plain": [
       "{'name': 'Brenda', 'age': '28', 'fruit': 'avocado'}"
      ]
     },
     "execution_count": 18,
     "metadata": {},
     "output_type": "execute_result"
    }
   ],
   "source": [
    "person"
   ]
  },
  {
   "cell_type": "code",
   "execution_count": 19,
   "id": "0eeb1804",
   "metadata": {},
   "outputs": [],
   "source": [
    "data = {\n",
    "    'name':['Brenda','Leo','Noel','Brian'],\n",
    "    'age':['28','6','34','21'],\n",
    "    'matunda':['avocado','orange','melon','apple']\n",
    "}"
   ]
  },
  {
   "cell_type": "code",
   "execution_count": 20,
   "id": "67b565d2",
   "metadata": {},
   "outputs": [
    {
     "data": {
      "text/plain": [
       "{'name': ['Brenda', 'Leo', 'Noel', 'Brian'],\n",
       " 'age': ['28', '6', '34', '21'],\n",
       " 'matunda': ['avocado', 'orange', 'melon', 'apple']}"
      ]
     },
     "execution_count": 20,
     "metadata": {},
     "output_type": "execute_result"
    }
   ],
   "source": [
    "data"
   ]
  },
  {
   "cell_type": "code",
   "execution_count": 21,
   "id": "ad470065",
   "metadata": {},
   "outputs": [
    {
     "data": {
      "text/html": [
       "<div>\n",
       "<style scoped>\n",
       "    .dataframe tbody tr th:only-of-type {\n",
       "        vertical-align: middle;\n",
       "    }\n",
       "\n",
       "    .dataframe tbody tr th {\n",
       "        vertical-align: top;\n",
       "    }\n",
       "\n",
       "    .dataframe thead th {\n",
       "        text-align: right;\n",
       "    }\n",
       "</style>\n",
       "<table border=\"1\" class=\"dataframe\">\n",
       "  <thead>\n",
       "    <tr style=\"text-align: right;\">\n",
       "      <th></th>\n",
       "      <th>name</th>\n",
       "      <th>age</th>\n",
       "      <th>matunda</th>\n",
       "    </tr>\n",
       "  </thead>\n",
       "  <tbody>\n",
       "    <tr>\n",
       "      <th>0</th>\n",
       "      <td>Brenda</td>\n",
       "      <td>28</td>\n",
       "      <td>avocado</td>\n",
       "    </tr>\n",
       "    <tr>\n",
       "      <th>1</th>\n",
       "      <td>Leo</td>\n",
       "      <td>6</td>\n",
       "      <td>orange</td>\n",
       "    </tr>\n",
       "    <tr>\n",
       "      <th>2</th>\n",
       "      <td>Noel</td>\n",
       "      <td>34</td>\n",
       "      <td>melon</td>\n",
       "    </tr>\n",
       "    <tr>\n",
       "      <th>3</th>\n",
       "      <td>Brian</td>\n",
       "      <td>21</td>\n",
       "      <td>apple</td>\n",
       "    </tr>\n",
       "  </tbody>\n",
       "</table>\n",
       "</div>"
      ],
      "text/plain": [
       "     name age  matunda\n",
       "0  Brenda  28  avocado\n",
       "1     Leo   6   orange\n",
       "2    Noel  34    melon\n",
       "3   Brian  21    apple"
      ]
     },
     "execution_count": 21,
     "metadata": {},
     "output_type": "execute_result"
    }
   ],
   "source": [
    "import pandas as pd\n",
    "df=pd.DataFrame(data)\n",
    "df.head()"
   ]
  },
  {
   "cell_type": "markdown",
   "id": "282e9f28",
   "metadata": {},
   "source": [
    "## Indexing\n",
    "- positioning of an element\n",
    "- slicing-uses indices to return a new list without modifying the original list"
   ]
  },
  {
   "cell_type": "code",
   "execution_count": 22,
   "id": "8b94134d",
   "metadata": {},
   "outputs": [],
   "source": [
    "numbers =[10,20,30,40,50]"
   ]
  },
  {
   "cell_type": "code",
   "execution_count": 23,
   "id": "e764b637",
   "metadata": {},
   "outputs": [
    {
     "data": {
      "text/plain": [
       "30"
      ]
     },
     "execution_count": 23,
     "metadata": {},
     "output_type": "execute_result"
    }
   ],
   "source": [
    "numbers[2]"
   ]
  },
  {
   "cell_type": "code",
   "execution_count": 24,
   "id": "c7b5cdae",
   "metadata": {},
   "outputs": [
    {
     "data": {
      "text/plain": [
       "40"
      ]
     },
     "execution_count": 24,
     "metadata": {},
     "output_type": "execute_result"
    }
   ],
   "source": [
    "numbers[3]"
   ]
  },
  {
   "cell_type": "code",
   "execution_count": 25,
   "id": "3695f740",
   "metadata": {},
   "outputs": [
    {
     "data": {
      "text/plain": [
       "40"
      ]
     },
     "execution_count": 25,
     "metadata": {},
     "output_type": "execute_result"
    }
   ],
   "source": [
    "numbers[-2]"
   ]
  },
  {
   "cell_type": "code",
   "execution_count": 26,
   "id": "dd3225d5",
   "metadata": {},
   "outputs": [
    {
     "data": {
      "text/plain": [
       "[10, 20, 30, 40]"
      ]
     },
     "execution_count": 26,
     "metadata": {},
     "output_type": "execute_result"
    }
   ],
   "source": [
    "numbers[:4]"
   ]
  },
  {
   "cell_type": "code",
   "execution_count": 27,
   "id": "3b57658d",
   "metadata": {},
   "outputs": [
    {
     "data": {
      "text/plain": [
       "[20, 30, 40, 50]"
      ]
     },
     "execution_count": 27,
     "metadata": {},
     "output_type": "execute_result"
    }
   ],
   "source": [
    "numbers[1:]"
   ]
  },
  {
   "cell_type": "code",
   "execution_count": 28,
   "id": "75e4f392",
   "metadata": {},
   "outputs": [
    {
     "data": {
      "text/plain": [
       "[30, 40]"
      ]
     },
     "execution_count": 28,
     "metadata": {},
     "output_type": "execute_result"
    }
   ],
   "source": [
    "numbers[2:4]"
   ]
  },
  {
   "cell_type": "code",
   "execution_count": 29,
   "id": "494d6995",
   "metadata": {},
   "outputs": [
    {
     "data": {
      "text/plain": [
       "[10, 20, 30, 40, 50, 60]"
      ]
     },
     "execution_count": 29,
     "metadata": {},
     "output_type": "execute_result"
    }
   ],
   "source": [
    "numbers.append(60)\n",
    "numbers"
   ]
  },
  {
   "cell_type": "code",
   "execution_count": 30,
   "id": "de8f15cf",
   "metadata": {},
   "outputs": [
    {
     "data": {
      "text/plain": [
       "[40, 50, 60]"
      ]
     },
     "execution_count": 30,
     "metadata": {},
     "output_type": "execute_result"
    }
   ],
   "source": [
    "numbers[3:6]"
   ]
  },
  {
   "cell_type": "code",
   "execution_count": 31,
   "id": "e232a0ca",
   "metadata": {},
   "outputs": [
    {
     "name": "stdout",
     "output_type": "stream",
     "text": [
      "The Power of Now\n"
     ]
    }
   ],
   "source": [
    "## create a list of your three favorite books and print the second one\n",
    "books=['The Alchemist','The Power of Now','You are Here']\n",
    "print(books[1])"
   ]
  },
  {
   "cell_type": "code",
   "execution_count": 32,
   "id": "f7a872f9",
   "metadata": {},
   "outputs": [
    {
     "name": "stdout",
     "output_type": "stream",
     "text": [
      "(1400, 1080)\n"
     ]
    }
   ],
   "source": [
    "#Write a tuple to store your screen resolution.\n",
    "screen_resolution=(1400,1080)\n",
    "print(screen_resolution)"
   ]
  },
  {
   "cell_type": "code",
   "execution_count": 1,
   "id": "901d7b95",
   "metadata": {},
   "outputs": [
    {
     "data": {
      "text/plain": [
       "{'name': 'Brenda', 'age': 24, 'favorite_color': 'sage'}"
      ]
     },
     "execution_count": 1,
     "metadata": {},
     "output_type": "execute_result"
    }
   ],
   "source": [
    "# make a dictionary that stores your name, age and favorite color.\n",
    "about_me={\n",
    "    'name':'Brenda',\n",
    "    'age':24,\n",
    "    'favorite_color':'sage'\n",
    "}\n",
    "about_me"
   ]
  },
  {
   "cell_type": "code",
   "execution_count": 2,
   "id": "0c3e024a",
   "metadata": {},
   "outputs": [],
   "source": [
    "# write a decorator that prints \"Before calling\"  and \"After calling\" around any function you decorate.\n",
    "def my_decorator(func):\n",
    "    def wrapper():\n",
    "        print(\"Before calling\")\n",
    "        func()\n",
    "        print(\"After calling\")\n",
    "    return wrapper"
   ]
  }
 ],
 "metadata": {
  "kernelspec": {
   "display_name": "my_env",
   "language": "python",
   "name": "python3"
  },
  "language_info": {
   "codemirror_mode": {
    "name": "ipython",
    "version": 3
   },
   "file_extension": ".py",
   "mimetype": "text/x-python",
   "name": "python",
   "nbconvert_exporter": "python",
   "pygments_lexer": "ipython3",
   "version": "3.12.10"
  }
 },
 "nbformat": 4,
 "nbformat_minor": 5
}
