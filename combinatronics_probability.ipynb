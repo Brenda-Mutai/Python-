{
 "cells": [
  {
   "cell_type": "code",
   "execution_count": 40,
   "id": "498294b6",
   "metadata": {},
   "outputs": [
    {
     "name": "stdout",
     "output_type": "stream",
     "text": [
      "{'pineapple', 'avocado', 'banana', 'apple', 'mango'}\n"
     ]
    }
   ],
   "source": [
    "#set\n",
    "set={'mango','banana','apple','pineapple','avocado'}\n",
    "print(set)"
   ]
  },
  {
   "cell_type": "code",
   "execution_count": 41,
   "id": "0b6ccbd3",
   "metadata": {},
   "outputs": [
    {
     "data": {
      "text/plain": [
       "True"
      ]
     },
     "execution_count": 41,
     "metadata": {},
     "output_type": "execute_result"
    }
   ],
   "source": [
    "#check if mango is in the set\n",
    "'mango' in set"
   ]
  },
  {
   "cell_type": "code",
   "execution_count": 42,
   "id": "957c1ec2",
   "metadata": {},
   "outputs": [
    {
     "data": {
      "text/plain": [
       "False"
      ]
     },
     "execution_count": 42,
     "metadata": {},
     "output_type": "execute_result"
    }
   ],
   "source": [
    "#check orange is in the set\n",
    "'orange' in set"
   ]
  },
  {
   "cell_type": "markdown",
   "id": "31c65c0e",
   "metadata": {},
   "source": [
    "- subset t said to be subset of s if every element of t is also in s"
   ]
  },
  {
   "cell_type": "code",
   "execution_count": 43,
   "id": "35f2bc25",
   "metadata": {},
   "outputs": [
    {
     "data": {
      "text/plain": [
       "True"
      ]
     },
     "execution_count": 43,
     "metadata": {},
     "output_type": "execute_result"
    }
   ],
   "source": [
    "#universal set\n",
    "set2={1,2,3,4,5,6,7,8,9,10}\n",
    "set3={3,4,5}\n",
    "set4={3,4,5}\n",
    "set5={6,7,8,9}\n",
    "\n",
    "set3.issubset(set2)"
   ]
  },
  {
   "cell_type": "code",
   "execution_count": 44,
   "id": "acea919d",
   "metadata": {},
   "outputs": [
    {
     "data": {
      "text/plain": [
       "True"
      ]
     },
     "execution_count": 44,
     "metadata": {},
     "output_type": "execute_result"
    }
   ],
   "source": [
    "set3.issubset(set4)"
   ]
  },
  {
   "cell_type": "code",
   "execution_count": 45,
   "id": "37d6936a",
   "metadata": {},
   "outputs": [
    {
     "data": {
      "text/plain": [
       "True"
      ]
     },
     "execution_count": 45,
     "metadata": {},
     "output_type": "execute_result"
    }
   ],
   "source": [
    "set5<=set2"
   ]
  },
  {
   "cell_type": "markdown",
   "id": "d97426fe",
   "metadata": {},
   "source": [
    "## proper subset\n",
    "- a set t is a proper subset of a set s if every element in set t is also in set s and the two sets to do contain the exact element"
   ]
  },
  {
   "cell_type": "code",
   "execution_count": 46,
   "id": "bf2ee3f9",
   "metadata": {},
   "outputs": [
    {
     "data": {
      "text/plain": [
       "False"
      ]
     },
     "execution_count": 46,
     "metadata": {},
     "output_type": "execute_result"
    }
   ],
   "source": [
    "set3<set4"
   ]
  },
  {
   "cell_type": "code",
   "execution_count": 47,
   "id": "8d3671b9",
   "metadata": {},
   "outputs": [
    {
     "data": {
      "text/plain": [
       "True"
      ]
     },
     "execution_count": 47,
     "metadata": {},
     "output_type": "execute_result"
    }
   ],
   "source": [
    "set3==set4"
   ]
  },
  {
   "cell_type": "code",
   "execution_count": 48,
   "id": "205f0808",
   "metadata": {},
   "outputs": [
    {
     "data": {
      "text/plain": [
       "False"
      ]
     },
     "execution_count": 48,
     "metadata": {},
     "output_type": "execute_result"
    }
   ],
   "source": [
    "set3==set5"
   ]
  },
  {
   "cell_type": "code",
   "execution_count": 49,
   "id": "b9dfa70f",
   "metadata": {},
   "outputs": [
    {
     "data": {
      "text/plain": [
       "True"
      ]
     },
     "execution_count": 49,
     "metadata": {},
     "output_type": "execute_result"
    }
   ],
   "source": [
    "set3<set2"
   ]
  },
  {
   "cell_type": "markdown",
   "id": "0db46079",
   "metadata": {},
   "source": [
    "## Superset\n",
    "- a superset can be said to be the inverse of a subset"
   ]
  },
  {
   "cell_type": "code",
   "execution_count": 50,
   "id": "29e9b499",
   "metadata": {},
   "outputs": [
    {
     "data": {
      "text/plain": [
       "True"
      ]
     },
     "execution_count": 50,
     "metadata": {},
     "output_type": "execute_result"
    }
   ],
   "source": [
    "#superset\n",
    "set2.issuperset(set3)"
   ]
  },
  {
   "cell_type": "code",
   "execution_count": 51,
   "id": "6456db26",
   "metadata": {},
   "outputs": [
    {
     "data": {
      "text/plain": [
       "True"
      ]
     },
     "execution_count": 51,
     "metadata": {},
     "output_type": "execute_result"
    }
   ],
   "source": [
    "#\n",
    "set2>set4\n"
   ]
  },
  {
   "cell_type": "code",
   "execution_count": 52,
   "id": "d7a88a16",
   "metadata": {},
   "outputs": [
    {
     "data": {
      "text/plain": [
       "False"
      ]
     },
     "execution_count": 52,
     "metadata": {},
     "output_type": "execute_result"
    }
   ],
   "source": [
    "set4.issuperset(set2) "
   ]
  },
  {
   "cell_type": "markdown",
   "id": "2c8f13c2",
   "metadata": {},
   "source": [
    "# core set operators"
   ]
  },
  {
   "cell_type": "code",
   "execution_count": 53,
   "id": "3de5f56f",
   "metadata": {},
   "outputs": [
    {
     "data": {
      "text/plain": [
       "{1, 2, 3, 4, 5, 6, 7, 8, 9}"
      ]
     },
     "execution_count": 53,
     "metadata": {},
     "output_type": "execute_result"
    }
   ],
   "source": [
    "# set operators\n",
    "set6={1,2,3,4,5,6,6,6,6,7,8,9}\n",
    "#use intersection to get common elements\n",
    "set2.intersection(set6)"
   ]
  },
  {
   "cell_type": "code",
   "execution_count": 54,
   "id": "1aa2aad3",
   "metadata": {},
   "outputs": [
    {
     "data": {
      "text/plain": [
       "{1, 2, 3, 4, 5, 6, 7, 8, 9}"
      ]
     },
     "execution_count": 54,
     "metadata": {},
     "output_type": "execute_result"
    }
   ],
   "source": [
    "set2&set6"
   ]
  },
  {
   "cell_type": "markdown",
   "id": "43aaa64c",
   "metadata": {},
   "source": [
    "## union\n",
    "- the union of two sets of either s or t or both of them"
   ]
  },
  {
   "cell_type": "code",
   "execution_count": 55,
   "id": "217502b4",
   "metadata": {},
   "outputs": [
    {
     "data": {
      "text/plain": [
       "{1, 2, 3, 4, 5, 6, 7, 8, 9, 10}"
      ]
     },
     "execution_count": 55,
     "metadata": {},
     "output_type": "execute_result"
    }
   ],
   "source": [
    "set2.union(set6)"
   ]
  },
  {
   "cell_type": "code",
   "execution_count": 63,
   "id": "19479707",
   "metadata": {},
   "outputs": [
    {
     "data": {
      "text/plain": [
       "{1, 2, 3, 4, 5, 6, 7, 8, 9, 10}"
      ]
     },
     "execution_count": 63,
     "metadata": {},
     "output_type": "execute_result"
    }
   ],
   "source": [
    "set2|set6"
   ]
  },
  {
   "cell_type": "markdown",
   "id": "4abb5064",
   "metadata": {},
   "source": [
    "# relative complement /difference\n",
    "- elements that are not in that set\n",
    "- relative component of s in t\n",
    "- the complement of a set means elements that are not in that set\n",
    "- use - operator\n",
    "- use the difference method"
   ]
  },
  {
   "cell_type": "code",
   "execution_count": 57,
   "id": "28b74517",
   "metadata": {},
   "outputs": [
    {
     "data": {
      "text/plain": [
       "{10}"
      ]
     },
     "execution_count": 57,
     "metadata": {},
     "output_type": "execute_result"
    }
   ],
   "source": [
    "set2-set6"
   ]
  },
  {
   "cell_type": "code",
   "execution_count": 62,
   "id": "43a2c878",
   "metadata": {},
   "outputs": [
    {
     "data": {
      "text/plain": [
       "{10}"
      ]
     },
     "execution_count": 62,
     "metadata": {},
     "output_type": "execute_result"
    }
   ],
   "source": [
    "set2.difference (set6)"
   ]
  },
  {
   "cell_type": "markdown",
   "id": "51bcab6c",
   "metadata": {},
   "source": [
    "# additional set attributes"
   ]
  },
  {
   "cell_type": "code",
   "execution_count": 59,
   "id": "2fecb5ce",
   "metadata": {},
   "outputs": [
    {
     "data": {
      "text/plain": [
       "10"
      ]
     },
     "execution_count": 59,
     "metadata": {},
     "output_type": "execute_result"
    }
   ],
   "source": [
    "len(set2)"
   ]
  },
  {
   "cell_type": "code",
   "execution_count": 60,
   "id": "90f04e58",
   "metadata": {},
   "outputs": [
    {
     "data": {
      "text/plain": [
       "9"
      ]
     },
     "execution_count": 60,
     "metadata": {},
     "output_type": "execute_result"
    }
   ],
   "source": [
    "len(set6)   "
   ]
  },
  {
   "cell_type": "code",
   "execution_count": 61,
   "id": "3f0f1a52",
   "metadata": {},
   "outputs": [
    {
     "name": "stdout",
     "output_type": "stream",
     "text": [
      "19\n"
     ]
    }
   ],
   "source": [
    "#inclusion exclusion principle\n",
    "print(len(set2)+len(set6))"
   ]
  },
  {
   "cell_type": "code",
   "execution_count": null,
   "id": "de76c0b5",
   "metadata": {},
   "outputs": [
    {
     "name": "stdout",
     "output_type": "stream",
     "text": [
      "True\n"
     ]
    }
   ],
   "source": [
    "#checking the principle\n",
    "print(len(set2|set6)==len(set2)+len(set6)-len(set2&set6))"
   ]
  },
  {
   "cell_type": "markdown",
   "id": "c341f473",
   "metadata": {},
   "source": [
    "## Probability"
   ]
  },
  {
   "cell_type": "markdown",
   "id": "b4fff93f",
   "metadata": {},
   "source": [
    "- event occuring\n",
    "- experiment\n",
    "- event- outcome of a particular experiment\n",
    "- samplespace - represents the universe of all the possible outcomes\n",
    "- event space is a subset of a sample space"
   ]
  },
  {
   "cell_type": "code",
   "execution_count": 66,
   "id": "1c705f45",
   "metadata": {},
   "outputs": [],
   "source": [
    "#sample space \n",
    "set7={1,2,3,4,5,6}\n"
   ]
  },
  {
   "cell_type": "code",
   "execution_count": 67,
   "id": "b19bcf7e",
   "metadata": {},
   "outputs": [
    {
     "data": {
      "text/plain": [
       "True"
      ]
     },
     "execution_count": 67,
     "metadata": {},
     "output_type": "execute_result"
    }
   ],
   "source": [
    "#event space\n",
    "set8={2,4,6}\n",
    "set8.issubset(set7)"
   ]
  }
 ],
 "metadata": {
  "kernelspec": {
   "display_name": "my_env",
   "language": "python",
   "name": "python3"
  },
  "language_info": {
   "codemirror_mode": {
    "name": "ipython",
    "version": 3
   },
   "file_extension": ".py",
   "mimetype": "text/x-python",
   "name": "python",
   "nbconvert_exporter": "python",
   "pygments_lexer": "ipython3",
   "version": "3.12.10"
  }
 },
 "nbformat": 4,
 "nbformat_minor": 5
}
